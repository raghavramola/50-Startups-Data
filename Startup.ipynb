{
 "cells": [
  {
   "cell_type": "code",
   "execution_count": 64,
   "metadata": {},
   "outputs": [],
   "source": [
    "import pandas\n",
    "import sklearn\n",
    "import numpy"
   ]
  },
  {
   "cell_type": "code",
   "execution_count": 65,
   "metadata": {},
   "outputs": [],
   "source": [
    "dataset = pandas.read_csv('50_Startups.csv')"
   ]
  },
  {
   "cell_type": "code",
   "execution_count": 66,
   "metadata": {},
   "outputs": [
    {
     "data": {
      "text/plain": [
       "Index(['R&D Spend', 'Administration', 'Marketing Spend', 'State', 'Profit'], dtype='object')"
      ]
     },
     "execution_count": 66,
     "metadata": {},
     "output_type": "execute_result"
    }
   ],
   "source": [
    "dataset.columns"
   ]
  },
  {
   "cell_type": "code",
   "execution_count": 67,
   "metadata": {},
   "outputs": [
    {
     "name": "stdout",
     "output_type": "stream",
     "text": [
      "<class 'pandas.core.frame.DataFrame'>\n",
      "RangeIndex: 50 entries, 0 to 49\n",
      "Data columns (total 5 columns):\n",
      " #   Column           Non-Null Count  Dtype  \n",
      "---  ------           --------------  -----  \n",
      " 0   R&D Spend        50 non-null     float64\n",
      " 1   Administration   50 non-null     float64\n",
      " 2   Marketing Spend  50 non-null     float64\n",
      " 3   State            50 non-null     object \n",
      " 4   Profit           50 non-null     float64\n",
      "dtypes: float64(4), object(1)\n",
      "memory usage: 2.1+ KB\n"
     ]
    }
   ],
   "source": [
    "dataset.info()"
   ]
  },
  {
   "cell_type": "code",
   "execution_count": 68,
   "metadata": {},
   "outputs": [
    {
     "data": {
      "text/html": [
       "<div>\n",
       "<style scoped>\n",
       "    .dataframe tbody tr th:only-of-type {\n",
       "        vertical-align: middle;\n",
       "    }\n",
       "\n",
       "    .dataframe tbody tr th {\n",
       "        vertical-align: top;\n",
       "    }\n",
       "\n",
       "    .dataframe thead th {\n",
       "        text-align: right;\n",
       "    }\n",
       "</style>\n",
       "<table border=\"1\" class=\"dataframe\">\n",
       "  <thead>\n",
       "    <tr style=\"text-align: right;\">\n",
       "      <th></th>\n",
       "      <th>R&amp;D Spend</th>\n",
       "      <th>Administration</th>\n",
       "      <th>Marketing Spend</th>\n",
       "      <th>State</th>\n",
       "      <th>Profit</th>\n",
       "    </tr>\n",
       "  </thead>\n",
       "  <tbody>\n",
       "    <tr>\n",
       "      <th>0</th>\n",
       "      <td>165349.20</td>\n",
       "      <td>136897.80</td>\n",
       "      <td>471784.10</td>\n",
       "      <td>New York</td>\n",
       "      <td>192261.83</td>\n",
       "    </tr>\n",
       "    <tr>\n",
       "      <th>1</th>\n",
       "      <td>162597.70</td>\n",
       "      <td>151377.59</td>\n",
       "      <td>443898.53</td>\n",
       "      <td>California</td>\n",
       "      <td>191792.06</td>\n",
       "    </tr>\n",
       "    <tr>\n",
       "      <th>2</th>\n",
       "      <td>153441.51</td>\n",
       "      <td>101145.55</td>\n",
       "      <td>407934.54</td>\n",
       "      <td>Florida</td>\n",
       "      <td>191050.39</td>\n",
       "    </tr>\n",
       "    <tr>\n",
       "      <th>3</th>\n",
       "      <td>144372.41</td>\n",
       "      <td>118671.85</td>\n",
       "      <td>383199.62</td>\n",
       "      <td>New York</td>\n",
       "      <td>182901.99</td>\n",
       "    </tr>\n",
       "    <tr>\n",
       "      <th>4</th>\n",
       "      <td>142107.34</td>\n",
       "      <td>91391.77</td>\n",
       "      <td>366168.42</td>\n",
       "      <td>Florida</td>\n",
       "      <td>166187.94</td>\n",
       "    </tr>\n",
       "  </tbody>\n",
       "</table>\n",
       "</div>"
      ],
      "text/plain": [
       "   R&D Spend  Administration  Marketing Spend       State     Profit\n",
       "0  165349.20       136897.80        471784.10    New York  192261.83\n",
       "1  162597.70       151377.59        443898.53  California  191792.06\n",
       "2  153441.51       101145.55        407934.54     Florida  191050.39\n",
       "3  144372.41       118671.85        383199.62    New York  182901.99\n",
       "4  142107.34        91391.77        366168.42     Florida  166187.94"
      ]
     },
     "execution_count": 68,
     "metadata": {},
     "output_type": "execute_result"
    }
   ],
   "source": [
    "dataset.head(5)"
   ]
  },
  {
   "cell_type": "code",
   "execution_count": 69,
   "metadata": {},
   "outputs": [],
   "source": [
    "state = dataset['State']"
   ]
  },
  {
   "cell_type": "code",
   "execution_count": 70,
   "metadata": {},
   "outputs": [
    {
     "data": {
      "text/plain": [
       "0      New York\n",
       "1    California\n",
       "2       Florida\n",
       "3      New York\n",
       "4       Florida\n",
       "Name: State, dtype: object"
      ]
     },
     "execution_count": 70,
     "metadata": {},
     "output_type": "execute_result"
    }
   ],
   "source": [
    "state.head()"
   ]
  },
  {
   "cell_type": "markdown",
   "metadata": {},
   "source": [
    "Using label encoding to convert string data into numbers(categorical variable)"
   ]
  },
  {
   "cell_type": "code",
   "execution_count": 71,
   "metadata": {},
   "outputs": [],
   "source": [
    "from sklearn.preprocessing import LabelEncoder"
   ]
  },
  {
   "cell_type": "code",
   "execution_count": 72,
   "metadata": {},
   "outputs": [],
   "source": [
    "state_le = LabelEncoder()"
   ]
  },
  {
   "cell_type": "code",
   "execution_count": 73,
   "metadata": {},
   "outputs": [],
   "source": [
    "state_le_final = state_le.fit_transform(state)"
   ]
  },
  {
   "cell_type": "code",
   "execution_count": 74,
   "metadata": {},
   "outputs": [
    {
     "data": {
      "text/plain": [
       "array([2, 0, 1, 2, 1, 2, 0, 1, 2, 0, 1, 0, 1, 0, 1, 2, 0, 2, 1, 2, 0, 2,\n",
       "       1, 1, 2, 0, 1, 2, 1, 2, 1, 2, 0, 1, 0, 2, 1, 0, 2, 0, 0, 1, 0, 2,\n",
       "       0, 2, 1, 0, 2, 0])"
      ]
     },
     "execution_count": 74,
     "metadata": {},
     "output_type": "execute_result"
    }
   ],
   "source": [
    "state_le_final"
   ]
  },
  {
   "cell_type": "code",
   "execution_count": 75,
   "metadata": {},
   "outputs": [
    {
     "data": {
      "text/plain": [
       "(50,)"
      ]
     },
     "execution_count": 75,
     "metadata": {},
     "output_type": "execute_result"
    }
   ],
   "source": [
    "state_le_final.shape"
   ]
  },
  {
   "cell_type": "code",
   "execution_count": 29,
   "metadata": {},
   "outputs": [],
   "source": [
    "#convert to 2d because OneHotEncoder function takes 2-d array as input\n",
    "state_le_final_2d = state_le_final.reshape(50,1)  #can use state_le_final.reshape(-1,1) also"
   ]
  },
  {
   "cell_type": "code",
   "execution_count": 76,
   "metadata": {},
   "outputs": [
    {
     "data": {
      "text/plain": [
       "(50, 1)"
      ]
     },
     "execution_count": 76,
     "metadata": {},
     "output_type": "execute_result"
    }
   ],
   "source": [
    "state_le_final_2d.shape"
   ]
  },
  {
   "cell_type": "markdown",
   "metadata": {},
   "source": [
    "converting categorical variable into dummy variables using one hot encoding"
   ]
  },
  {
   "cell_type": "code",
   "execution_count": 77,
   "metadata": {},
   "outputs": [],
   "source": [
    "from sklearn.preprocessing import OneHotEncoder"
   ]
  },
  {
   "cell_type": "code",
   "execution_count": 78,
   "metadata": {},
   "outputs": [],
   "source": [
    "state_ohe = OneHotEncoder()"
   ]
  },
  {
   "cell_type": "code",
   "execution_count": 79,
   "metadata": {},
   "outputs": [],
   "source": [
    "state_dump = state_ohe.fit_transform(state_le_final_2d)"
   ]
  },
  {
   "cell_type": "code",
   "execution_count": 80,
   "metadata": {},
   "outputs": [
    {
     "data": {
      "text/plain": [
       "<50x3 sparse matrix of type '<class 'numpy.float64'>'\n",
       "\twith 50 stored elements in Compressed Sparse Row format>"
      ]
     },
     "execution_count": 80,
     "metadata": {},
     "output_type": "execute_result"
    }
   ],
   "source": [
    "state_dump"
   ]
  },
  {
   "cell_type": "code",
   "execution_count": 81,
   "metadata": {},
   "outputs": [],
   "source": [
    "#dummy variable\n",
    "state_final = state_dump.toarray()"
   ]
  },
  {
   "cell_type": "markdown",
   "metadata": {},
   "source": [
    "Now we have to solve issue of dummy variable trap(remove any 1 column)"
   ]
  },
  {
   "cell_type": "code",
   "execution_count": 82,
   "metadata": {},
   "outputs": [],
   "source": [
    "state_final_trap = state_final[:,0:2]"
   ]
  },
  {
   "cell_type": "code",
   "execution_count": 83,
   "metadata": {},
   "outputs": [
    {
     "data": {
      "text/plain": [
       "array([[0., 0.],\n",
       "       [1., 0.],\n",
       "       [0., 1.],\n",
       "       [0., 0.],\n",
       "       [0., 1.],\n",
       "       [0., 0.],\n",
       "       [1., 0.],\n",
       "       [0., 1.],\n",
       "       [0., 0.],\n",
       "       [1., 0.],\n",
       "       [0., 1.],\n",
       "       [1., 0.],\n",
       "       [0., 1.],\n",
       "       [1., 0.],\n",
       "       [0., 1.],\n",
       "       [0., 0.],\n",
       "       [1., 0.],\n",
       "       [0., 0.],\n",
       "       [0., 1.],\n",
       "       [0., 0.],\n",
       "       [1., 0.],\n",
       "       [0., 0.],\n",
       "       [0., 1.],\n",
       "       [0., 1.],\n",
       "       [0., 0.],\n",
       "       [1., 0.],\n",
       "       [0., 1.],\n",
       "       [0., 0.],\n",
       "       [0., 1.],\n",
       "       [0., 0.],\n",
       "       [0., 1.],\n",
       "       [0., 0.],\n",
       "       [1., 0.],\n",
       "       [0., 1.],\n",
       "       [1., 0.],\n",
       "       [0., 0.],\n",
       "       [0., 1.],\n",
       "       [1., 0.],\n",
       "       [0., 0.],\n",
       "       [1., 0.],\n",
       "       [1., 0.],\n",
       "       [0., 1.],\n",
       "       [1., 0.],\n",
       "       [0., 0.],\n",
       "       [1., 0.],\n",
       "       [0., 0.],\n",
       "       [0., 1.],\n",
       "       [1., 0.],\n",
       "       [0., 0.],\n",
       "       [1., 0.]])"
      ]
     },
     "execution_count": 83,
     "metadata": {},
     "output_type": "execute_result"
    }
   ],
   "source": [
    "state_final_trap "
   ]
  },
  {
   "cell_type": "code",
   "execution_count": 84,
   "metadata": {},
   "outputs": [],
   "source": [
    "y = dataset['Profit']"
   ]
  },
  {
   "cell_type": "code",
   "execution_count": 85,
   "metadata": {},
   "outputs": [],
   "source": [
    "x = dataset[ ['R&D Spend', 'Administration', 'Marketing Spend'] ]"
   ]
  },
  {
   "cell_type": "code",
   "execution_count": 86,
   "metadata": {},
   "outputs": [
    {
     "data": {
      "text/html": [
       "<div>\n",
       "<style scoped>\n",
       "    .dataframe tbody tr th:only-of-type {\n",
       "        vertical-align: middle;\n",
       "    }\n",
       "\n",
       "    .dataframe tbody tr th {\n",
       "        vertical-align: top;\n",
       "    }\n",
       "\n",
       "    .dataframe thead th {\n",
       "        text-align: right;\n",
       "    }\n",
       "</style>\n",
       "<table border=\"1\" class=\"dataframe\">\n",
       "  <thead>\n",
       "    <tr style=\"text-align: right;\">\n",
       "      <th></th>\n",
       "      <th>R&amp;D Spend</th>\n",
       "      <th>Administration</th>\n",
       "      <th>Marketing Spend</th>\n",
       "    </tr>\n",
       "  </thead>\n",
       "  <tbody>\n",
       "    <tr>\n",
       "      <th>0</th>\n",
       "      <td>165349.20</td>\n",
       "      <td>136897.80</td>\n",
       "      <td>471784.10</td>\n",
       "    </tr>\n",
       "    <tr>\n",
       "      <th>1</th>\n",
       "      <td>162597.70</td>\n",
       "      <td>151377.59</td>\n",
       "      <td>443898.53</td>\n",
       "    </tr>\n",
       "    <tr>\n",
       "      <th>2</th>\n",
       "      <td>153441.51</td>\n",
       "      <td>101145.55</td>\n",
       "      <td>407934.54</td>\n",
       "    </tr>\n",
       "    <tr>\n",
       "      <th>3</th>\n",
       "      <td>144372.41</td>\n",
       "      <td>118671.85</td>\n",
       "      <td>383199.62</td>\n",
       "    </tr>\n",
       "    <tr>\n",
       "      <th>4</th>\n",
       "      <td>142107.34</td>\n",
       "      <td>91391.77</td>\n",
       "      <td>366168.42</td>\n",
       "    </tr>\n",
       "  </tbody>\n",
       "</table>\n",
       "</div>"
      ],
      "text/plain": [
       "   R&D Spend  Administration  Marketing Spend\n",
       "0  165349.20       136897.80        471784.10\n",
       "1  162597.70       151377.59        443898.53\n",
       "2  153441.51       101145.55        407934.54\n",
       "3  144372.41       118671.85        383199.62\n",
       "4  142107.34        91391.77        366168.42"
      ]
     },
     "execution_count": 86,
     "metadata": {},
     "output_type": "execute_result"
    }
   ],
   "source": [
    "x.head()"
   ]
  },
  {
   "cell_type": "code",
   "execution_count": 87,
   "metadata": {},
   "outputs": [],
   "source": [
    "x_final = numpy.hstack( (x, state_final_trap) )"
   ]
  },
  {
   "cell_type": "code",
   "execution_count": 88,
   "metadata": {},
   "outputs": [
    {
     "data": {
      "text/plain": [
       "array([[1.6534920e+05, 1.3689780e+05, 4.7178410e+05, 0.0000000e+00,\n",
       "        0.0000000e+00],\n",
       "       [1.6259770e+05, 1.5137759e+05, 4.4389853e+05, 1.0000000e+00,\n",
       "        0.0000000e+00],\n",
       "       [1.5344151e+05, 1.0114555e+05, 4.0793454e+05, 0.0000000e+00,\n",
       "        1.0000000e+00],\n",
       "       [1.4437241e+05, 1.1867185e+05, 3.8319962e+05, 0.0000000e+00,\n",
       "        0.0000000e+00],\n",
       "       [1.4210734e+05, 9.1391770e+04, 3.6616842e+05, 0.0000000e+00,\n",
       "        1.0000000e+00],\n",
       "       [1.3187690e+05, 9.9814710e+04, 3.6286136e+05, 0.0000000e+00,\n",
       "        0.0000000e+00],\n",
       "       [1.3461546e+05, 1.4719887e+05, 1.2771682e+05, 1.0000000e+00,\n",
       "        0.0000000e+00],\n",
       "       [1.3029813e+05, 1.4553006e+05, 3.2387668e+05, 0.0000000e+00,\n",
       "        1.0000000e+00],\n",
       "       [1.2054252e+05, 1.4871895e+05, 3.1161329e+05, 0.0000000e+00,\n",
       "        0.0000000e+00],\n",
       "       [1.2333488e+05, 1.0867917e+05, 3.0498162e+05, 1.0000000e+00,\n",
       "        0.0000000e+00],\n",
       "       [1.0191308e+05, 1.1059411e+05, 2.2916095e+05, 0.0000000e+00,\n",
       "        1.0000000e+00],\n",
       "       [1.0067196e+05, 9.1790610e+04, 2.4974455e+05, 1.0000000e+00,\n",
       "        0.0000000e+00],\n",
       "       [9.3863750e+04, 1.2732038e+05, 2.4983944e+05, 0.0000000e+00,\n",
       "        1.0000000e+00],\n",
       "       [9.1992390e+04, 1.3549507e+05, 2.5266493e+05, 1.0000000e+00,\n",
       "        0.0000000e+00],\n",
       "       [1.1994324e+05, 1.5654742e+05, 2.5651292e+05, 0.0000000e+00,\n",
       "        1.0000000e+00],\n",
       "       [1.1452361e+05, 1.2261684e+05, 2.6177623e+05, 0.0000000e+00,\n",
       "        0.0000000e+00],\n",
       "       [7.8013110e+04, 1.2159755e+05, 2.6434606e+05, 1.0000000e+00,\n",
       "        0.0000000e+00],\n",
       "       [9.4657160e+04, 1.4507758e+05, 2.8257431e+05, 0.0000000e+00,\n",
       "        0.0000000e+00],\n",
       "       [9.1749160e+04, 1.1417579e+05, 2.9491957e+05, 0.0000000e+00,\n",
       "        1.0000000e+00],\n",
       "       [8.6419700e+04, 1.5351411e+05, 0.0000000e+00, 0.0000000e+00,\n",
       "        0.0000000e+00],\n",
       "       [7.6253860e+04, 1.1386730e+05, 2.9866447e+05, 1.0000000e+00,\n",
       "        0.0000000e+00],\n",
       "       [7.8389470e+04, 1.5377343e+05, 2.9973729e+05, 0.0000000e+00,\n",
       "        0.0000000e+00],\n",
       "       [7.3994560e+04, 1.2278275e+05, 3.0331926e+05, 0.0000000e+00,\n",
       "        1.0000000e+00],\n",
       "       [6.7532530e+04, 1.0575103e+05, 3.0476873e+05, 0.0000000e+00,\n",
       "        1.0000000e+00],\n",
       "       [7.7044010e+04, 9.9281340e+04, 1.4057481e+05, 0.0000000e+00,\n",
       "        0.0000000e+00],\n",
       "       [6.4664710e+04, 1.3955316e+05, 1.3796262e+05, 1.0000000e+00,\n",
       "        0.0000000e+00],\n",
       "       [7.5328870e+04, 1.4413598e+05, 1.3405007e+05, 0.0000000e+00,\n",
       "        1.0000000e+00],\n",
       "       [7.2107600e+04, 1.2786455e+05, 3.5318381e+05, 0.0000000e+00,\n",
       "        0.0000000e+00],\n",
       "       [6.6051520e+04, 1.8264556e+05, 1.1814820e+05, 0.0000000e+00,\n",
       "        1.0000000e+00],\n",
       "       [6.5605480e+04, 1.5303206e+05, 1.0713838e+05, 0.0000000e+00,\n",
       "        0.0000000e+00],\n",
       "       [6.1994480e+04, 1.1564128e+05, 9.1131240e+04, 0.0000000e+00,\n",
       "        1.0000000e+00],\n",
       "       [6.1136380e+04, 1.5270192e+05, 8.8218230e+04, 0.0000000e+00,\n",
       "        0.0000000e+00],\n",
       "       [6.3408860e+04, 1.2921961e+05, 4.6085250e+04, 1.0000000e+00,\n",
       "        0.0000000e+00],\n",
       "       [5.5493950e+04, 1.0305749e+05, 2.1463481e+05, 0.0000000e+00,\n",
       "        1.0000000e+00],\n",
       "       [4.6426070e+04, 1.5769392e+05, 2.1079767e+05, 1.0000000e+00,\n",
       "        0.0000000e+00],\n",
       "       [4.6014020e+04, 8.5047440e+04, 2.0551764e+05, 0.0000000e+00,\n",
       "        0.0000000e+00],\n",
       "       [2.8663760e+04, 1.2705621e+05, 2.0112682e+05, 0.0000000e+00,\n",
       "        1.0000000e+00],\n",
       "       [4.4069950e+04, 5.1283140e+04, 1.9702942e+05, 1.0000000e+00,\n",
       "        0.0000000e+00],\n",
       "       [2.0229590e+04, 6.5947930e+04, 1.8526510e+05, 0.0000000e+00,\n",
       "        0.0000000e+00],\n",
       "       [3.8558510e+04, 8.2982090e+04, 1.7499930e+05, 1.0000000e+00,\n",
       "        0.0000000e+00],\n",
       "       [2.8754330e+04, 1.1854605e+05, 1.7279567e+05, 1.0000000e+00,\n",
       "        0.0000000e+00],\n",
       "       [2.7892920e+04, 8.4710770e+04, 1.6447071e+05, 0.0000000e+00,\n",
       "        1.0000000e+00],\n",
       "       [2.3640930e+04, 9.6189630e+04, 1.4800111e+05, 1.0000000e+00,\n",
       "        0.0000000e+00],\n",
       "       [1.5505730e+04, 1.2738230e+05, 3.5534170e+04, 0.0000000e+00,\n",
       "        0.0000000e+00],\n",
       "       [2.2177740e+04, 1.5480614e+05, 2.8334720e+04, 1.0000000e+00,\n",
       "        0.0000000e+00],\n",
       "       [1.0002300e+03, 1.2415304e+05, 1.9039300e+03, 0.0000000e+00,\n",
       "        0.0000000e+00],\n",
       "       [1.3154600e+03, 1.1581621e+05, 2.9711446e+05, 0.0000000e+00,\n",
       "        1.0000000e+00],\n",
       "       [0.0000000e+00, 1.3542692e+05, 0.0000000e+00, 1.0000000e+00,\n",
       "        0.0000000e+00],\n",
       "       [5.4205000e+02, 5.1743150e+04, 0.0000000e+00, 0.0000000e+00,\n",
       "        0.0000000e+00],\n",
       "       [0.0000000e+00, 1.1698380e+05, 4.5173060e+04, 1.0000000e+00,\n",
       "        0.0000000e+00]])"
      ]
     },
     "execution_count": 88,
     "metadata": {},
     "output_type": "execute_result"
    }
   ],
   "source": [
    "x_final"
   ]
  },
  {
   "cell_type": "code",
   "execution_count": 89,
   "metadata": {},
   "outputs": [],
   "source": [
    "from sklearn.linear_model import LinearRegression"
   ]
  },
  {
   "cell_type": "code",
   "execution_count": 92,
   "metadata": {},
   "outputs": [],
   "source": [
    "model = LinearRegression()"
   ]
  },
  {
   "cell_type": "code",
   "execution_count": 93,
   "metadata": {},
   "outputs": [
    {
     "data": {
      "text/plain": [
       "LinearRegression()"
      ]
     },
     "execution_count": 93,
     "metadata": {},
     "output_type": "execute_result"
    }
   ],
   "source": [
    "model.fit(x_final , y)"
   ]
  },
  {
   "cell_type": "code",
   "execution_count": 94,
   "metadata": {},
   "outputs": [
    {
     "data": {
      "text/plain": [
       "array([ 8.06023114e-01, -2.70043196e-02,  2.69798610e-02,  4.18870191e+01,\n",
       "        2.40675812e+02])"
      ]
     },
     "execution_count": 94,
     "metadata": {},
     "output_type": "execute_result"
    }
   ],
   "source": [
    "model.coef_"
   ]
  }
 ],
 "metadata": {
  "kernelspec": {
   "display_name": "Python 3",
   "language": "python",
   "name": "python3"
  },
  "language_info": {
   "codemirror_mode": {
    "name": "ipython",
    "version": 3
   },
   "file_extension": ".py",
   "mimetype": "text/x-python",
   "name": "python",
   "nbconvert_exporter": "python",
   "pygments_lexer": "ipython3",
   "version": "3.8.3"
  }
 },
 "nbformat": 4,
 "nbformat_minor": 4
}
